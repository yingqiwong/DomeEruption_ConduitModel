{
 "cells": [
  {
   "cell_type": "markdown",
   "id": "ranking-gross",
   "metadata": {},
   "source": [
    "# Run time-dependent conduit model by calling matlab functions \n",
    "\n",
    "This is the same as RunTimeDepModel.m but calling the matlab functions from python notebook.\n",
    "\n",
    "First start matlab and add paths for model functions\n"
   ]
  },
  {
   "cell_type": "code",
   "execution_count": 1,
   "id": "studied-immune",
   "metadata": {},
   "outputs": [],
   "source": [
    "import matlab.engine\n",
    "eng = matlab.engine.start_matlab()\n",
    "eng.AddPaths(nargout=0)"
   ]
  },
  {
   "cell_type": "markdown",
   "id": "disciplinary-founder",
   "metadata": {},
   "source": [
    "### Run the full time-dependent model using default parameters"
   ]
  },
  {
   "cell_type": "code",
   "execution_count": null,
   "id": "liquid-content",
   "metadata": {},
   "outputs": [],
   "source": [
    "ss, td, m, flag = eng.tdcFV('main',nargout=4);\n"
   ]
  },
  {
   "cell_type": "markdown",
   "id": "steady-bachelor",
   "metadata": {},
   "source": [
    "### More verbose way of running the previous cell \n",
    "This gives you more control of parameter values and solver options. With default parameters, the solution here should be exactly the same as from the previous cell"
   ]
  },
  {
   "cell_type": "code",
   "execution_count": 39,
   "id": "federal-pricing",
   "metadata": {},
   "outputs": [],
   "source": [
    "o    = eng.tdcFV('setdef', nargout=1);\n",
    "opts = eng.tdcFV('ss_init',o,nargout=1);\n",
    "opts['Nz'] = 401.;\n",
    "\n",
    "# run steady-state model\n",
    "ss, opts, ssflag = eng.tdcFV('run_ssc_opts', opts, nargout=3);\n",
    "\n",
    "# load time-dependent options\n",
    "m, y0, z = eng.tdcFV('td_init', ss['m'], ss, 0, 0, nargout=3);\n",
    "\n",
    "# run time-dependent model\n",
    "td, m, flag = eng.tdcFV('run_tdc', y0, z, m, nargout=3);\n",
    "\n"
   ]
  },
  {
   "cell_type": "markdown",
   "id": "statutory-carrier",
   "metadata": {},
   "source": [
    "### Calculate MSH 2004 datasets\n",
    "extruded volume, deformation, gas emissions"
   ]
  },
  {
   "cell_type": "code",
   "execution_count": 41,
   "id": "flexible-suggestion",
   "metadata": {},
   "outputs": [],
   "source": [
    "VolEx        = eng.CalcExtrusionVolume(td,m,1);\n",
    "JRO1Def      = eng.CalcJRO1Def(td,m,1);\n",
    "H2OFlux, CO2Flux = eng.CalcGasEmissions(td,m,1,nargout=2);"
   ]
  },
  {
   "cell_type": "code",
   "execution_count": null,
   "id": "facial-salem",
   "metadata": {},
   "outputs": [],
   "source": []
  },
  {
   "cell_type": "code",
   "execution_count": null,
   "id": "interim-observation",
   "metadata": {},
   "outputs": [],
   "source": [
    "\n"
   ]
  }
 ],
 "metadata": {
  "kernelspec": {
   "display_name": "Python 3",
   "language": "python",
   "name": "python3"
  },
  "language_info": {
   "codemirror_mode": {
    "name": "ipython",
    "version": 3
   },
   "file_extension": ".py",
   "mimetype": "text/x-python",
   "name": "python",
   "nbconvert_exporter": "python",
   "pygments_lexer": "ipython3",
   "version": "3.7.10"
  }
 },
 "nbformat": 4,
 "nbformat_minor": 5
}
